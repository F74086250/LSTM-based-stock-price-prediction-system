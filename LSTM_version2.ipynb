{
 "cells": [
  {
   "cell_type": "code",
   "execution_count": 1,
   "id": "6e448626",
   "metadata": {},
   "outputs": [],
   "source": [
    "import pandas as pd\n",
    "import numpy as np\n",
    "import matplotlib.pyplot as plt\n",
    "%matplotlib inline\n",
    "import requests\n"
   ]
  },
  {
   "cell_type": "code",
   "execution_count": 2,
   "id": "7bd3391b",
   "metadata": {},
   "outputs": [
    {
     "ename": "KeyError",
     "evalue": "'token'",
     "output_type": "error",
     "traceback": [
      "\u001b[1;31m---------------------------------------------------------------------------\u001b[0m",
      "\u001b[1;31mKeyError\u001b[0m                                  Traceback (most recent call last)",
      "\u001b[1;32m<ipython-input-2-1b57a7c784d8>\u001b[0m in \u001b[0;36m<module>\u001b[1;34m\u001b[0m\n\u001b[0;32m      7\u001b[0m \u001b[0mdata\u001b[0m \u001b[1;33m=\u001b[0m \u001b[0mrequests\u001b[0m\u001b[1;33m.\u001b[0m\u001b[0mpost\u001b[0m\u001b[1;33m(\u001b[0m\u001b[0murl\u001b[0m\u001b[1;33m,\u001b[0m \u001b[0mdata\u001b[0m\u001b[1;33m=\u001b[0m\u001b[0mparload\u001b[0m\u001b[1;33m)\u001b[0m\u001b[1;33m\u001b[0m\u001b[1;33m\u001b[0m\u001b[0m\n\u001b[0;32m      8\u001b[0m \u001b[0mdata\u001b[0m\u001b[1;33m=\u001b[0m\u001b[0mdata\u001b[0m\u001b[1;33m.\u001b[0m\u001b[0mjson\u001b[0m\u001b[1;33m(\u001b[0m\u001b[1;33m)\u001b[0m\u001b[1;33m\u001b[0m\u001b[1;33m\u001b[0m\u001b[0m\n\u001b[1;32m----> 9\u001b[1;33m \u001b[0mmy_token\u001b[0m\u001b[1;33m=\u001b[0m\u001b[0mdata\u001b[0m\u001b[1;33m[\u001b[0m\u001b[1;34m'token'\u001b[0m\u001b[1;33m]\u001b[0m\u001b[1;33m\u001b[0m\u001b[1;33m\u001b[0m\u001b[0m\n\u001b[0m",
      "\u001b[1;31mKeyError\u001b[0m: 'token'"
     ]
    }
   ],
   "source": [
    "#連上Finmind取得及時的數據\n",
    "url = \"https://api.finmindtrade.com/api/v4/login\"\n",
    "parload = {\n",
    "    \"user_id\": \"user_id\",\n",
    "    \"password\": \"password\",\n",
    "}\n",
    "data = requests.post(url, data=parload)\n",
    "data=data.json()\n",
    "my_token=data['token']"
   ]
  },
  {
   "cell_type": "code",
   "execution_count": null,
   "id": "10964774",
   "metadata": {},
   "outputs": [],
   "source": [
    "url = \"https://api.finmindtrade.com/api/v4/data\"\n",
    "parameter = {\n",
    "    \"dataset\": \"TaiwanStockPrice\",\n",
    "    \"data_id\": \"2330\",\n",
    "    \"start_date\": \"2020-01-01\",\n",
    "    \"end_date\": \"2021-06-03\",\n",
    "    \"token\":my_token # 參考登入，獲取金鑰\n",
    "}\n",
    "resp = requests.get(url, params=parameter)\n",
    "data = resp.json()\n",
    "df = pd.DataFrame(data[\"data\"])\n",
    "df"
   ]
  },
  {
   "cell_type": "code",
   "execution_count": null,
   "id": "722c788f",
   "metadata": {},
   "outputs": [],
   "source": [
    "#取得個股的融資卷增減量(張) (data2)\n",
    "parameter = {\n",
    "    \"dataset\": \"TaiwanStockMarginPurchaseShortSale\",\n",
    "    \"data_id\": \"2603\",\n",
    "    \"start_date\": \"2020-01-01\",\n",
    "    \"token\": my_token, # 參考登入，獲取金鑰\n",
    "}\n",
    "data2 = requests.get(url, params=parameter).json()\n",
    "data2 = pd.DataFrame(data2['data'])\n",
    "data2=data2[[\"MarginPurchaseTodayBalance\",\"MarginPurchaseYesterdayBalance\",\"ShortSaleTodayBalance\",\"ShortSaleYesterdayBalance\"]]\n",
    "data2[\"MarginPurchaseVariation\"]=data2[\"MarginPurchaseTodayBalance\"]-data2[\"MarginPurchaseYesterdayBalance\"]\n",
    "data2[\"ShortSaleVariation\"]=data2[\"ShortSaleTodayBalance\"]-data2[\"ShortSaleYesterdayBalance\"]\n",
    "data2\n",
    "\n",
    "data2=data2.drop(343,axis=0)\n",
    "data2"
   ]
  },
  {
   "cell_type": "code",
   "execution_count": null,
   "id": "da777ff8",
   "metadata": {},
   "outputs": [],
   "source": [
    "#取得個股的股利,本益比,淨值比(data3)\n",
    "parameter = {\n",
    "    \"dataset\": \"TaiwanStockPER\",\n",
    "    \"data_id\": \"2330\",\n",
    "    \"start_date\": \"2020-01-01\",\n",
    "    \"token\": my_token, # 參考登入，獲取金鑰\n",
    "}\n",
    "data3 = requests.get(url, params=parameter).json()\n",
    "data3 = pd.DataFrame(data3['data'])\n",
    "data3=data3.drop([\"date\",\"stock_id\"],axis=1)\n",
    "\n",
    "data3=data3.drop(343,axis=0)\n",
    "data3"
   ]
  },
  {
   "cell_type": "code",
   "execution_count": null,
   "id": "923dbb96",
   "metadata": {},
   "outputs": [],
   "source": [
    "#取得大盤的融資餘額(百萬)以及融卷張數 (data4)\n",
    "parameter = {\n",
    "    \"dataset\": \"TaiwanStockTotalMarginPurchaseShortSale\",\n",
    "    \"start_date\": \"2020-01-01\",\n",
    "    \"token\": my_token, # 參考登入，獲取金鑰\n",
    "}\n",
    "data4 = requests.get(url, params=parameter).json()\n",
    "data4 = pd.DataFrame(data4['data'])[[\"TodayBalance\",\"name\"]]\n",
    "data4=data4[~data4['name'].isin([\"MarginPurchase\"])]\n",
    "MarginPurchaseMoney=data4[data4[\"name\"]==\"MarginPurchaseMoney\"].drop(columns=\"name\")\n",
    "MarginPurchaseMoney.rename(columns={\"TodayBalance\":\"MarginPurchaseMoney\"})\n",
    "MarginPurchaseMoney=MarginPurchaseMoney[\"TodayBalance\"]/10000000\n",
    "MarginPurchaseMoney=MarginPurchaseMoney.to_frame().rename(columns={\"TodayBalance\":\"MarginPurchaseMoney\"})\n",
    "ShortSale=data4[data4[\"name\"]==\"ShortSale\"].drop(columns=\"name\")\n",
    "ShortSale=ShortSale.rename(columns={\"TodayBalance\":\"Shortsale\"})\n",
    "mod=list(range(len(df)))\n",
    "MarginPurchaseMoney=MarginPurchaseMoney.set_axis(mod)\n",
    "ShortSale=ShortSale.set_axis(mod)\n",
    "data4=MarginPurchaseMoney.join(ShortSale)\n",
    "data4\n",
    "\n",
    "data4=data4.drop(343,axis=0)\n",
    "data4"
   ]
  },
  {
   "cell_type": "code",
   "execution_count": null,
   "id": "7944c317",
   "metadata": {},
   "outputs": [],
   "source": [
    "#大盤指數,與漲跌點數\n",
    "data5 = pd.read_csv('TAIEX.csv')\n",
    "data5=data5.iloc[::-1]\n",
    "mod=list(range(len(df)))\n",
    "data5=data5.set_axis(mod).drop([\"日期\",\"報酬指數值\",'漲跌百分比'],axis=1)\n",
    "data5.columns = ['大盤指數','漲跌點數']\n",
    "data5"
   ]
  },
  {
   "cell_type": "code",
   "execution_count": null,
   "id": "f153f7dc",
   "metadata": {},
   "outputs": [],
   "source": [
    "#將多張dataframe合併\n",
    "df=df.join(data2)\n",
    "df=df.join(data3)\n",
    "df=df.join(data4)\n",
    "df=df.join(data5)\n",
    "df"
   ]
  },
  {
   "cell_type": "code",
   "execution_count": null,
   "id": "ff9bccf2",
   "metadata": {},
   "outputs": [],
   "source": [
    "df.columns=[\"日期\",\"股票編號\",\"當日成交量\",\"當日成交金額\",\"開盤價\",\"最高價\",\"最低價\",\"收盤價\",\"買賣價差\",\"周轉率\",\"當日融資\",\"昨日融資\",\"當日融卷\",\"昨日融卷\",\"融卷變化\",\"融資變化\",\"殖利率\",\"本益比\",\"股價淨值比\",\"大盤融資餘額(百萬)\",\"大盤融卷量\",\"大盤指數\",\"大盤漲跌\"]"
   ]
  },
  {
   "cell_type": "code",
   "execution_count": null,
   "id": "f7b2a1c0",
   "metadata": {},
   "outputs": [],
   "source": [
    "for column in df:\n",
    "    print(column)"
   ]
  },
  {
   "cell_type": "code",
   "execution_count": null,
   "id": "81a63801",
   "metadata": {},
   "outputs": [],
   "source": [
    "df"
   ]
  },
  {
   "cell_type": "code",
   "execution_count": null,
   "id": "6ab38c5e",
   "metadata": {},
   "outputs": [],
   "source": []
  }
 ],
 "metadata": {
  "kernelspec": {
   "display_name": "Python 3",
   "language": "python",
   "name": "python3"
  },
  "language_info": {
   "codemirror_mode": {
    "name": "ipython",
    "version": 3
   },
   "file_extension": ".py",
   "mimetype": "text/x-python",
   "name": "python",
   "nbconvert_exporter": "python",
   "pygments_lexer": "ipython3",
   "version": "3.9.1"
  }
 },
 "nbformat": 4,
 "nbformat_minor": 5
}
