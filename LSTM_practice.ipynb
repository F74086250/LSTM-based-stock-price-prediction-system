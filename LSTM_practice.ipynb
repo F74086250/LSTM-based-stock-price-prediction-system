{
 "cells": [
  {
   "cell_type": "code",
   "execution_count": null,
   "metadata": {},
   "outputs": [],
   "source": [
    "print(\"G\")"
   ]
  }
 ],
 "metadata": {
  "kernelspec": {
   "display_name": "Python 3.8.10 ('base')",
   "language": "python",
   "name": "python3"
  },
  "language_info": {
   "name": "python",
   "version": "3.8.10"
  },
  "orig_nbformat": 4,
  "vscode": {
   "interpreter": {
    "hash": "c07aa80fb080e7adb7206ce0ac5d29845271e7b33674d1cf8f130a054328aaae"
   }
  }
 },
 "nbformat": 4,
 "nbformat_minor": 2
}
